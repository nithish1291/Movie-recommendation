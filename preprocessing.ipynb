{
 "cells": [
  {
   "cell_type": "code",
   "execution_count": 9,
   "metadata": {
    "colab": {},
    "colab_type": "code",
    "id": "4JuL3Yfpg6UH"
   },
   "outputs": [],
   "source": [
    "import numpy as np\n",
    "import pandas as pd"
   ]
  },
  {
   "cell_type": "code",
   "execution_count": 10,
   "metadata": {
    "colab": {},
    "colab_type": "code",
    "id": "uONCUG0dhGgX"
   },
   "outputs": [
    {
     "data": {
      "text/html": [
       "<div>\n",
       "<style scoped>\n",
       "    .dataframe tbody tr th:only-of-type {\n",
       "        vertical-align: middle;\n",
       "    }\n",
       "\n",
       "    .dataframe tbody tr th {\n",
       "        vertical-align: top;\n",
       "    }\n",
       "\n",
       "    .dataframe thead th {\n",
       "        text-align: right;\n",
       "    }\n",
       "</style>\n",
       "<table border=\"1\" class=\"dataframe\">\n",
       "  <thead>\n",
       "    <tr style=\"text-align: right;\">\n",
       "      <th></th>\n",
       "      <th>Year</th>\n",
       "      <th>Month</th>\n",
       "      <th>Title</th>\n",
       "      <th>Director</th>\n",
       "      <th>Cast</th>\n",
       "      <th>Genre</th>\n",
       "    </tr>\n",
       "  </thead>\n",
       "  <tbody>\n",
       "    <tr>\n",
       "      <th>0</th>\n",
       "      <td>1992</td>\n",
       "      <td>NaN</td>\n",
       "      <td>Aa Okkati Adakku</td>\n",
       "      <td>E. V. V. Satyanarayana</td>\n",
       "      <td>Rajendra Prasad, Rambha, Rao Gopal Rao</td>\n",
       "      <td>NaN</td>\n",
       "    </tr>\n",
       "    <tr>\n",
       "      <th>1</th>\n",
       "      <td>1992</td>\n",
       "      <td>NaN</td>\n",
       "      <td>Pelli Neeku Sukham Naaku</td>\n",
       "      <td>P. N. Ramchandra Rao</td>\n",
       "      <td>Naresh, Divya Vani, Brahmanandam</td>\n",
       "      <td>NaN</td>\n",
       "    </tr>\n",
       "    <tr>\n",
       "      <th>2</th>\n",
       "      <td>1992</td>\n",
       "      <td>NaN</td>\n",
       "      <td>Pellaniki Premalekha Priyuraliki Subhalekha</td>\n",
       "      <td>Relangi Narasimha Rao</td>\n",
       "      <td>Rajendra Prasad, Nandini, Babu Mohan, Brahmana...</td>\n",
       "      <td>NaN</td>\n",
       "    </tr>\n",
       "    <tr>\n",
       "      <th>3</th>\n",
       "      <td>1992</td>\n",
       "      <td>NaN</td>\n",
       "      <td>Pellante Noorella Panta</td>\n",
       "      <td>Muthyala Subbaiah</td>\n",
       "      <td>S. P. Balasubrahmanyam, Srinivasa Varma, Aishw...</td>\n",
       "      <td>NaN</td>\n",
       "    </tr>\n",
       "    <tr>\n",
       "      <th>4</th>\n",
       "      <td>1992</td>\n",
       "      <td>NaN</td>\n",
       "      <td>Pellam Chebithe Vinali</td>\n",
       "      <td>Kodi Ramakrishna</td>\n",
       "      <td>Harish Kumar, Meena, Meka Srikanth</td>\n",
       "      <td>NaN</td>\n",
       "    </tr>\n",
       "  </tbody>\n",
       "</table>\n",
       "</div>"
      ],
      "text/plain": [
       "   Year Month                                        Title  \\\n",
       "0  1992   NaN                             Aa Okkati Adakku   \n",
       "1  1992   NaN                     Pelli Neeku Sukham Naaku   \n",
       "2  1992   NaN  Pellaniki Premalekha Priyuraliki Subhalekha   \n",
       "3  1992   NaN                      Pellante Noorella Panta   \n",
       "4  1992   NaN                       Pellam Chebithe Vinali   \n",
       "\n",
       "                 Director                                               Cast  \\\n",
       "0  E. V. V. Satyanarayana             Rajendra Prasad, Rambha, Rao Gopal Rao   \n",
       "1    P. N. Ramchandra Rao                   Naresh, Divya Vani, Brahmanandam   \n",
       "2   Relangi Narasimha Rao  Rajendra Prasad, Nandini, Babu Mohan, Brahmana...   \n",
       "3       Muthyala Subbaiah  S. P. Balasubrahmanyam, Srinivasa Varma, Aishw...   \n",
       "4        Kodi Ramakrishna                 Harish Kumar, Meena, Meka Srikanth   \n",
       "\n",
       "  Genre  \n",
       "0   NaN  \n",
       "1   NaN  \n",
       "2   NaN  \n",
       "3   NaN  \n",
       "4   NaN  "
      ]
     },
     "execution_count": 10,
     "metadata": {},
     "output_type": "execute_result"
    }
   ],
   "source": [
    "#Reading data\n",
    "data = pd.read_csv('movie.csv')\n",
    "data.head()"
   ]
  },
  {
   "cell_type": "code",
   "execution_count": 12,
   "metadata": {
    "colab": {},
    "colab_type": "code",
    "id": "Dy9QjQMghUhl"
   },
   "outputs": [
    {
     "data": {
      "text/html": [
       "<div>\n",
       "<style scoped>\n",
       "    .dataframe tbody tr th:only-of-type {\n",
       "        vertical-align: middle;\n",
       "    }\n",
       "\n",
       "    .dataframe tbody tr th {\n",
       "        vertical-align: top;\n",
       "    }\n",
       "\n",
       "    .dataframe thead th {\n",
       "        text-align: right;\n",
       "    }\n",
       "</style>\n",
       "<table border=\"1\" class=\"dataframe\">\n",
       "  <thead>\n",
       "    <tr style=\"text-align: right;\">\n",
       "      <th></th>\n",
       "      <th>Title</th>\n",
       "      <th>Director</th>\n",
       "      <th>Cast</th>\n",
       "      <th>Genre</th>\n",
       "    </tr>\n",
       "  </thead>\n",
       "  <tbody>\n",
       "    <tr>\n",
       "      <th>0</th>\n",
       "      <td>Aa Okkati Adakku</td>\n",
       "      <td>E. V. V. Satyanarayana</td>\n",
       "      <td>Rajendra Prasad, Rambha, Rao Gopal Rao</td>\n",
       "      <td>NaN</td>\n",
       "    </tr>\n",
       "    <tr>\n",
       "      <th>1</th>\n",
       "      <td>Pelli Neeku Sukham Naaku</td>\n",
       "      <td>P. N. Ramchandra Rao</td>\n",
       "      <td>Naresh, Divya Vani, Brahmanandam</td>\n",
       "      <td>NaN</td>\n",
       "    </tr>\n",
       "    <tr>\n",
       "      <th>2</th>\n",
       "      <td>Pellaniki Premalekha Priyuraliki Subhalekha</td>\n",
       "      <td>Relangi Narasimha Rao</td>\n",
       "      <td>Rajendra Prasad, Nandini, Babu Mohan, Brahmana...</td>\n",
       "      <td>NaN</td>\n",
       "    </tr>\n",
       "    <tr>\n",
       "      <th>3</th>\n",
       "      <td>Pellante Noorella Panta</td>\n",
       "      <td>Muthyala Subbaiah</td>\n",
       "      <td>S. P. Balasubrahmanyam, Srinivasa Varma, Aishw...</td>\n",
       "      <td>NaN</td>\n",
       "    </tr>\n",
       "    <tr>\n",
       "      <th>4</th>\n",
       "      <td>Pellam Chebithe Vinali</td>\n",
       "      <td>Kodi Ramakrishna</td>\n",
       "      <td>Harish Kumar, Meena, Meka Srikanth</td>\n",
       "      <td>NaN</td>\n",
       "    </tr>\n",
       "  </tbody>\n",
       "</table>\n",
       "</div>"
      ],
      "text/plain": [
       "                                         Title                Director  \\\n",
       "0                             Aa Okkati Adakku  E. V. V. Satyanarayana   \n",
       "1                     Pelli Neeku Sukham Naaku    P. N. Ramchandra Rao   \n",
       "2  Pellaniki Premalekha Priyuraliki Subhalekha   Relangi Narasimha Rao   \n",
       "3                      Pellante Noorella Panta       Muthyala Subbaiah   \n",
       "4                       Pellam Chebithe Vinali        Kodi Ramakrishna   \n",
       "\n",
       "                                                Cast Genre  \n",
       "0             Rajendra Prasad, Rambha, Rao Gopal Rao   NaN  \n",
       "1                   Naresh, Divya Vani, Brahmanandam   NaN  \n",
       "2  Rajendra Prasad, Nandini, Babu Mohan, Brahmana...   NaN  \n",
       "3  S. P. Balasubrahmanyam, Srinivasa Varma, Aishw...   NaN  \n",
       "4                 Harish Kumar, Meena, Meka Srikanth   NaN  "
      ]
     },
     "execution_count": 12,
     "metadata": {},
     "output_type": "execute_result"
    }
   ],
   "source": [
    "# keeping the columns that are useful in recommndation system\n",
    "data =data[['Title','Director','Cast','Genre']]\n",
    "data.head()"
   ]
  },
  {
   "cell_type": "code",
   "execution_count": 13,
   "metadata": {
    "colab": {
     "base_uri": "https://localhost:8080/",
     "height": 136
    },
    "colab_type": "code",
    "id": "gyzXFPi-icZ9",
    "outputId": "bd912cb7-d442-458e-c00d-800a58f368d5"
   },
   "outputs": [
    {
     "data": {
      "text/plain": [
       "Title         1\n",
       "Director     68\n",
       "Cast          6\n",
       "Genre       431\n",
       "dtype: int64"
      ]
     },
     "execution_count": 13,
     "metadata": {},
     "output_type": "execute_result"
    }
   ],
   "source": [
    "# dealing with null values\n",
    "data.isnull().sum(axis=0)"
   ]
  },
  {
   "cell_type": "code",
   "execution_count": 14,
   "metadata": {
    "colab": {},
    "colab_type": "code",
    "id": "w12eP6Nhivoa"
   },
   "outputs": [
    {
     "data": {
      "text/plain": [
       "Title       0\n",
       "Director    0\n",
       "Cast        0\n",
       "Genre       0\n",
       "dtype: int64"
      ]
     },
     "execution_count": 14,
     "metadata": {},
     "output_type": "execute_result"
    }
   ],
   "source": [
    "# replacing null values in the all columns with string 'unknown'\n",
    "data['Title'] = data['Title'].replace(np.nan, 'unknown')\n",
    "data['Director'] = data['Director'].replace(np.nan, 'unknown')\n",
    "data['Cast'] = data['Cast'].replace(np.nan, 'unknown')\n",
    "data['Genre'] = data['Genre'].replace(np.nan, 'unknown')\n",
    "\n",
    "data.isnull().sum()"
   ]
  },
  {
   "cell_type": "code",
   "execution_count": 16,
   "metadata": {
    "colab": {},
    "colab_type": "code",
    "id": "pUyVte3EjNGY"
   },
   "outputs": [],
   "source": [
    "# In the ‘genres’ column, replacing the ‘|’ with whitespace,\n",
    "# so the genres would be considered different strings.\n",
    "data['Genre'] = data['Genre'].replace('|', ' ')"
   ]
  },
  {
   "cell_type": "code",
   "execution_count": 17,
   "metadata": {
    "colab": {},
    "colab_type": "code",
    "id": "dAtVcVNijR0c"
   },
   "outputs": [],
   "source": [
    "# Now converting the ‘movie_title’ columns values to lowercase for searching simplicity.\n",
    "data['Title'] = data['Title'].str.lower()"
   ]
  },
  {
   "cell_type": "code",
   "execution_count": 18,
   "metadata": {},
   "outputs": [
    {
     "data": {
      "text/html": [
       "<div>\n",
       "<style scoped>\n",
       "    .dataframe tbody tr th:only-of-type {\n",
       "        vertical-align: middle;\n",
       "    }\n",
       "\n",
       "    .dataframe tbody tr th {\n",
       "        vertical-align: top;\n",
       "    }\n",
       "\n",
       "    .dataframe thead th {\n",
       "        text-align: right;\n",
       "    }\n",
       "</style>\n",
       "<table border=\"1\" class=\"dataframe\">\n",
       "  <thead>\n",
       "    <tr style=\"text-align: right;\">\n",
       "      <th></th>\n",
       "      <th>Title</th>\n",
       "      <th>Director</th>\n",
       "      <th>Cast</th>\n",
       "      <th>Genre</th>\n",
       "    </tr>\n",
       "  </thead>\n",
       "  <tbody>\n",
       "    <tr>\n",
       "      <th>0</th>\n",
       "      <td>aa okkati adakku</td>\n",
       "      <td>E. V. V. Satyanarayana</td>\n",
       "      <td>Rajendra Prasad, Rambha, Rao Gopal Rao</td>\n",
       "      <td>unknown</td>\n",
       "    </tr>\n",
       "    <tr>\n",
       "      <th>1</th>\n",
       "      <td>pelli neeku sukham naaku</td>\n",
       "      <td>P. N. Ramchandra Rao</td>\n",
       "      <td>Naresh, Divya Vani, Brahmanandam</td>\n",
       "      <td>unknown</td>\n",
       "    </tr>\n",
       "    <tr>\n",
       "      <th>2</th>\n",
       "      <td>pellaniki premalekha priyuraliki subhalekha</td>\n",
       "      <td>Relangi Narasimha Rao</td>\n",
       "      <td>Rajendra Prasad, Nandini, Babu Mohan, Brahmana...</td>\n",
       "      <td>unknown</td>\n",
       "    </tr>\n",
       "    <tr>\n",
       "      <th>3</th>\n",
       "      <td>pellante noorella panta</td>\n",
       "      <td>Muthyala Subbaiah</td>\n",
       "      <td>S. P. Balasubrahmanyam, Srinivasa Varma, Aishw...</td>\n",
       "      <td>unknown</td>\n",
       "    </tr>\n",
       "    <tr>\n",
       "      <th>4</th>\n",
       "      <td>pellam chebithe vinali</td>\n",
       "      <td>Kodi Ramakrishna</td>\n",
       "      <td>Harish Kumar, Meena, Meka Srikanth</td>\n",
       "      <td>unknown</td>\n",
       "    </tr>\n",
       "  </tbody>\n",
       "</table>\n",
       "</div>"
      ],
      "text/plain": [
       "                                         Title                Director  \\\n",
       "0                             aa okkati adakku  E. V. V. Satyanarayana   \n",
       "1                     pelli neeku sukham naaku    P. N. Ramchandra Rao   \n",
       "2  pellaniki premalekha priyuraliki subhalekha   Relangi Narasimha Rao   \n",
       "3                      pellante noorella panta       Muthyala Subbaiah   \n",
       "4                       pellam chebithe vinali        Kodi Ramakrishna   \n",
       "\n",
       "                                                Cast    Genre  \n",
       "0             Rajendra Prasad, Rambha, Rao Gopal Rao  unknown  \n",
       "1                   Naresh, Divya Vani, Brahmanandam  unknown  \n",
       "2  Rajendra Prasad, Nandini, Babu Mohan, Brahmana...  unknown  \n",
       "3  S. P. Balasubrahmanyam, Srinivasa Varma, Aishw...  unknown  \n",
       "4                 Harish Kumar, Meena, Meka Srikanth  unknown  "
      ]
     },
     "execution_count": 18,
     "metadata": {},
     "output_type": "execute_result"
    }
   ],
   "source": [
    "data.head()"
   ]
  },
  {
   "cell_type": "code",
   "execution_count": 19,
   "metadata": {},
   "outputs": [
    {
     "data": {
      "text/html": [
       "<div>\n",
       "<style scoped>\n",
       "    .dataframe tbody tr th:only-of-type {\n",
       "        vertical-align: middle;\n",
       "    }\n",
       "\n",
       "    .dataframe tbody tr th {\n",
       "        vertical-align: top;\n",
       "    }\n",
       "\n",
       "    .dataframe thead th {\n",
       "        text-align: right;\n",
       "    }\n",
       "</style>\n",
       "<table border=\"1\" class=\"dataframe\">\n",
       "  <thead>\n",
       "    <tr style=\"text-align: right;\">\n",
       "      <th></th>\n",
       "      <th>Title</th>\n",
       "      <th>Director</th>\n",
       "      <th>Cast</th>\n",
       "      <th>Genre</th>\n",
       "      <th>comb</th>\n",
       "    </tr>\n",
       "  </thead>\n",
       "  <tbody>\n",
       "    <tr>\n",
       "      <th>0</th>\n",
       "      <td>aa okkati adakku</td>\n",
       "      <td>E. V. V. Satyanarayana</td>\n",
       "      <td>Rajendra Prasad, Rambha, Rao Gopal Rao</td>\n",
       "      <td>unknown</td>\n",
       "      <td>E. V. V. Satyanarayana Rajendra Prasad, Rambha...</td>\n",
       "    </tr>\n",
       "    <tr>\n",
       "      <th>1</th>\n",
       "      <td>pelli neeku sukham naaku</td>\n",
       "      <td>P. N. Ramchandra Rao</td>\n",
       "      <td>Naresh, Divya Vani, Brahmanandam</td>\n",
       "      <td>unknown</td>\n",
       "      <td>P. N. Ramchandra Rao Naresh, Divya Vani, Brahm...</td>\n",
       "    </tr>\n",
       "    <tr>\n",
       "      <th>2</th>\n",
       "      <td>pellaniki premalekha priyuraliki subhalekha</td>\n",
       "      <td>Relangi Narasimha Rao</td>\n",
       "      <td>Rajendra Prasad, Nandini, Babu Mohan, Brahmana...</td>\n",
       "      <td>unknown</td>\n",
       "      <td>Relangi Narasimha Rao Rajendra Prasad, Nandini...</td>\n",
       "    </tr>\n",
       "    <tr>\n",
       "      <th>3</th>\n",
       "      <td>pellante noorella panta</td>\n",
       "      <td>Muthyala Subbaiah</td>\n",
       "      <td>S. P. Balasubrahmanyam, Srinivasa Varma, Aishw...</td>\n",
       "      <td>unknown</td>\n",
       "      <td>Muthyala Subbaiah S. P. Balasubrahmanyam, Srin...</td>\n",
       "    </tr>\n",
       "    <tr>\n",
       "      <th>4</th>\n",
       "      <td>pellam chebithe vinali</td>\n",
       "      <td>Kodi Ramakrishna</td>\n",
       "      <td>Harish Kumar, Meena, Meka Srikanth</td>\n",
       "      <td>unknown</td>\n",
       "      <td>Kodi Ramakrishna Harish Kumar, Meena, Meka Sri...</td>\n",
       "    </tr>\n",
       "  </tbody>\n",
       "</table>\n",
       "</div>"
      ],
      "text/plain": [
       "                                         Title                Director  \\\n",
       "0                             aa okkati adakku  E. V. V. Satyanarayana   \n",
       "1                     pelli neeku sukham naaku    P. N. Ramchandra Rao   \n",
       "2  pellaniki premalekha priyuraliki subhalekha   Relangi Narasimha Rao   \n",
       "3                      pellante noorella panta       Muthyala Subbaiah   \n",
       "4                       pellam chebithe vinali        Kodi Ramakrishna   \n",
       "\n",
       "                                                Cast    Genre  \\\n",
       "0             Rajendra Prasad, Rambha, Rao Gopal Rao  unknown   \n",
       "1                   Naresh, Divya Vani, Brahmanandam  unknown   \n",
       "2  Rajendra Prasad, Nandini, Babu Mohan, Brahmana...  unknown   \n",
       "3  S. P. Balasubrahmanyam, Srinivasa Varma, Aishw...  unknown   \n",
       "4                 Harish Kumar, Meena, Meka Srikanth  unknown   \n",
       "\n",
       "                                                comb  \n",
       "0  E. V. V. Satyanarayana Rajendra Prasad, Rambha...  \n",
       "1  P. N. Ramchandra Rao Naresh, Divya Vani, Brahm...  \n",
       "2  Relangi Narasimha Rao Rajendra Prasad, Nandini...  \n",
       "3  Muthyala Subbaiah S. P. Balasubrahmanyam, Srin...  \n",
       "4  Kodi Ramakrishna Harish Kumar, Meena, Meka Sri...  "
      ]
     },
     "execution_count": 19,
     "metadata": {},
     "output_type": "execute_result"
    }
   ],
   "source": [
    "# making the new column containing combination of all the features\n",
    "data['comb'] = data['Director'] + ' '+ data['Cast'] +' ' + data['Genre']\n",
    "\n",
    "data.head()"
   ]
  },
  {
   "cell_type": "code",
   "execution_count": 20,
   "metadata": {
    "colab": {},
    "colab_type": "code",
    "id": "CElAHauRjS9d"
   },
   "outputs": [],
   "source": [
    "data.to_csv('data.csv',index=False)"
   ]
  }
 ],
 "metadata": {
  "colab": {
   "name": "preprocessing.ipynb",
   "provenance": []
  },
  "kernelspec": {
   "display_name": "Python 3",
   "language": "python",
   "name": "python3"
  },
  "language_info": {
   "codemirror_mode": {
    "name": "ipython",
    "version": 3
   },
   "file_extension": ".py",
   "mimetype": "text/x-python",
   "name": "python",
   "nbconvert_exporter": "python",
   "pygments_lexer": "ipython3",
   "version": "3.6.10"
  }
 },
 "nbformat": 4,
 "nbformat_minor": 1
}
